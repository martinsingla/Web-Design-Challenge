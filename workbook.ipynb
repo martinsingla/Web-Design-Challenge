{
 "cells": [
  {
   "cell_type": "code",
   "execution_count": 49,
   "id": "bright-nation",
   "metadata": {},
   "outputs": [
    {
     "data": {
      "text/html": [
       "<div>\n",
       "<style scoped>\n",
       "    .dataframe tbody tr th:only-of-type {\n",
       "        vertical-align: middle;\n",
       "    }\n",
       "\n",
       "    .dataframe tbody tr th {\n",
       "        vertical-align: top;\n",
       "    }\n",
       "\n",
       "    .dataframe thead th {\n",
       "        text-align: right;\n",
       "    }\n",
       "</style>\n",
       "<table border=\"1\" class=\"dataframe\">\n",
       "  <thead>\n",
       "    <tr style=\"text-align: right;\">\n",
       "      <th></th>\n",
       "      <th>Clave</th>\n",
       "      <th>Fecha</th>\n",
       "      <th>Casos positivos</th>\n",
       "    </tr>\n",
       "  </thead>\n",
       "  <tbody>\n",
       "    <tr>\n",
       "      <th>0</th>\n",
       "      <td>05-011</td>\n",
       "      <td>200630</td>\n",
       "      <td>6</td>\n",
       "    </tr>\n",
       "    <tr>\n",
       "      <th>1</th>\n",
       "      <td>05-011</td>\n",
       "      <td>200903</td>\n",
       "      <td>8</td>\n",
       "    </tr>\n",
       "    <tr>\n",
       "      <th>2</th>\n",
       "      <td>05-011</td>\n",
       "      <td>200904</td>\n",
       "      <td>8</td>\n",
       "    </tr>\n",
       "    <tr>\n",
       "      <th>3</th>\n",
       "      <td>05-011</td>\n",
       "      <td>200905</td>\n",
       "      <td>7</td>\n",
       "    </tr>\n",
       "    <tr>\n",
       "      <th>4</th>\n",
       "      <td>05-011</td>\n",
       "      <td>200906</td>\n",
       "      <td>7</td>\n",
       "    </tr>\n",
       "  </tbody>\n",
       "</table>\n",
       "</div>"
      ],
      "text/plain": [
       "    Clave   Fecha  Casos positivos\n",
       "0  05-011  200630                6\n",
       "1  05-011  200903                8\n",
       "2  05-011  200904                8\n",
       "3  05-011  200905                7\n",
       "4  05-011  200906                7"
      ]
     },
     "execution_count": 49,
     "metadata": {},
     "output_type": "execute_result"
    }
   ],
   "source": [
    "## Creating HTML out of dataframe\n",
    "import pandas as pd\n",
    "df = pd.read_csv('Resources/data_covid.csv')\n",
    "#df['Fecha'] = pd.to_datetime(df['Fecha']).dt.date\n",
    "df.head()"
   ]
  },
  {
   "cell_type": "code",
   "execution_count": 45,
   "id": "talented-sixth",
   "metadata": {},
   "outputs": [
    {
     "data": {
      "text/plain": [
       "array([datetime.date(1970, 1, 1)], dtype=object)"
      ]
     },
     "execution_count": 45,
     "metadata": {},
     "output_type": "execute_result"
    }
   ],
   "source": [
    "df['Fecha'].unique()"
   ]
  },
  {
   "cell_type": "code",
   "execution_count": 51,
   "id": "american-forestry",
   "metadata": {},
   "outputs": [
    {
     "data": {
      "text/html": [
       "<div>\n",
       "<style scoped>\n",
       "    .dataframe tbody tr th:only-of-type {\n",
       "        vertical-align: middle;\n",
       "    }\n",
       "\n",
       "    .dataframe tbody tr th {\n",
       "        vertical-align: top;\n",
       "    }\n",
       "\n",
       "    .dataframe thead th {\n",
       "        text-align: right;\n",
       "    }\n",
       "</style>\n",
       "<table border=\"1\" class=\"dataframe\">\n",
       "  <thead>\n",
       "    <tr style=\"text-align: right;\">\n",
       "      <th></th>\n",
       "      <th>Casos positivos</th>\n",
       "    </tr>\n",
       "    <tr>\n",
       "      <th>Fecha</th>\n",
       "      <th></th>\n",
       "    </tr>\n",
       "  </thead>\n",
       "  <tbody>\n",
       "    <tr>\n",
       "      <th>200629</th>\n",
       "      <td>9.850679</td>\n",
       "    </tr>\n",
       "    <tr>\n",
       "      <th>200630</th>\n",
       "      <td>9.796610</td>\n",
       "    </tr>\n",
       "    <tr>\n",
       "      <th>200701</th>\n",
       "      <td>9.836449</td>\n",
       "    </tr>\n",
       "    <tr>\n",
       "      <th>200702</th>\n",
       "      <td>10.164502</td>\n",
       "    </tr>\n",
       "    <tr>\n",
       "      <th>200703</th>\n",
       "      <td>10.190114</td>\n",
       "    </tr>\n",
       "    <tr>\n",
       "      <th>...</th>\n",
       "      <td>...</td>\n",
       "    </tr>\n",
       "    <tr>\n",
       "      <th>201230</th>\n",
       "      <td>27.597711</td>\n",
       "    </tr>\n",
       "    <tr>\n",
       "      <th>201231</th>\n",
       "      <td>27.680248</td>\n",
       "    </tr>\n",
       "    <tr>\n",
       "      <th>210101</th>\n",
       "      <td>27.735004</td>\n",
       "    </tr>\n",
       "    <tr>\n",
       "      <th>210102</th>\n",
       "      <td>26.912442</td>\n",
       "    </tr>\n",
       "    <tr>\n",
       "      <th>210103</th>\n",
       "      <td>25.232824</td>\n",
       "    </tr>\n",
       "  </tbody>\n",
       "</table>\n",
       "<p>184 rows × 1 columns</p>\n",
       "</div>"
      ],
      "text/plain": [
       "        Casos positivos\n",
       "Fecha                  \n",
       "200629         9.850679\n",
       "200630         9.796610\n",
       "200701         9.836449\n",
       "200702        10.164502\n",
       "200703        10.190114\n",
       "...                 ...\n",
       "201230        27.597711\n",
       "201231        27.680248\n",
       "210101        27.735004\n",
       "210102        26.912442\n",
       "210103        25.232824\n",
       "\n",
       "[184 rows x 1 columns]"
      ]
     },
     "execution_count": 51,
     "metadata": {},
     "output_type": "execute_result"
    }
   ],
   "source": [
    "df = df.groupby(['Fecha'])['Casos positivos'].mean().to_frame()\n",
    "df"
   ]
  },
  {
   "cell_type": "code",
   "execution_count": 52,
   "id": "medieval-guitar",
   "metadata": {},
   "outputs": [],
   "source": [
    "df.to_html('dataframe.html')"
   ]
  }
 ],
 "metadata": {
  "kernelspec": {
   "display_name": "Python 3",
   "language": "python",
   "name": "python3"
  },
  "language_info": {
   "codemirror_mode": {
    "name": "ipython",
    "version": 3
   },
   "file_extension": ".py",
   "mimetype": "text/x-python",
   "name": "python",
   "nbconvert_exporter": "python",
   "pygments_lexer": "ipython3",
   "version": "3.7.10"
  }
 },
 "nbformat": 4,
 "nbformat_minor": 5
}
